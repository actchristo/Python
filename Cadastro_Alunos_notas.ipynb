{
  "nbformat": 4,
  "nbformat_minor": 0,
  "metadata": {
    "colab": {
      "provenance": [],
      "authorship_tag": "ABX9TyPvZsWhq7JuNfhlOyG50K2s",
      "include_colab_link": true
    },
    "kernelspec": {
      "name": "python3",
      "display_name": "Python 3"
    },
    "language_info": {
      "name": "python"
    }
  },
  "cells": [
    {
      "cell_type": "markdown",
      "metadata": {
        "id": "view-in-github",
        "colab_type": "text"
      },
      "source": [
        "<a href=\"https://colab.research.google.com/github/actchristo/Python/blob/main/Cadastro_Alunos_notas.ipynb\" target=\"_parent\"><img src=\"https://colab.research.google.com/assets/colab-badge.svg\" alt=\"Open In Colab\"/></a>"
      ]
    },
    {
      "cell_type": "code",
      "execution_count": null,
      "metadata": {
        "id": "RyfYCG5_ZX2F",
        "outputId": "bd3df465-d015-4a42-ee78-148ef3c95d02",
        "colab": {
          "base_uri": "https://localhost:8080/",
          "height": 134
        }
      },
      "outputs": [
        {
          "output_type": "error",
          "ename": "SyntaxError",
          "evalue": "ignored",
          "traceback": [
            "\u001b[0;36m  File \u001b[0;32m\"<ipython-input-1-5d7a6135a4b8>\"\u001b[0;36m, line \u001b[0;32m5\u001b[0m\n\u001b[0;31m    nome<-as.character()\u001b[0m\n\u001b[0m           ^\u001b[0m\n\u001b[0;31mSyntaxError\u001b[0m\u001b[0;31m:\u001b[0m invalid syntax\n"
          ]
        }
      ],
      "source": [
        "###### PROJETO 1 ######\n",
        "\n",
        "{\n",
        " \n",
        "  nome<-as.character()\n",
        "  Nota1<-as.numeric()\n",
        "  Nota2<-as.numeric()\n",
        "  Nota3<-as.numeric()\n",
        "  Media_notas<-as.numeric()\n",
        "  Situação<-as.character()\n",
        "  \n",
        "  alunos<-cbind(nome, Nota1, Nota2, Nota3, Media_notas, Situação)\n",
        "  \n",
        "  alunos_df<-as.data.frame(alunos)\n",
        "  \n",
        "  cat(\"\\n  Esta função realiza as seguintes Atividades:\n",
        "      1 - Cadastra alunos \n",
        "      2 - Recebe suas notas\n",
        "      3 - Mostra sua média e diz se foi aprovado \\n\n",
        "      Cadastro de Alunos --> Digite 1\")\n",
        "  \n",
        "  x <- scan(n=1)\n",
        "  i <- 1\n",
        "\n",
        "while (x == 1)\n",
        "   {\n",
        "    print (\"Nome:\")\n",
        "    nome <- scan(what = character(), nmax = 1)\n",
        "    \n",
        "    print(\"Nota 1:\")\n",
        "    Nota1 <- scan(n=1)\n",
        "    \n",
        "    print(\"Nota 2:\")\n",
        "    Nota2 <- scan(n=1)\n",
        "    \n",
        "    print(\"Nota 3:\")\n",
        "    Nota3 <- scan(n=1)\n",
        "   \n",
        "    notas <- c(Nota1, Nota2, Nota3)\n",
        "    \n",
        "      for(j in 1: length(notas))\n",
        "      {\n",
        "        cat(\"Nota na Prova\", j, \"---> \")\n",
        "        cat(\" \", notas [j], \"\\n\")\n",
        "      }\n",
        "    \n",
        "     Media_notas <- mean(notas)\n",
        "     Media_notas <- signif(Media_notas, 3)\n",
        "     cat(\"Média do Aluno:\", Media_notas, \"\\n\")\n",
        "    \n",
        "    if (Media_notas >= 7)\n",
        "    {\n",
        "      cat(\"\\nAluno Aprovado\\n\\n\")\n",
        "      Situação <- \"Aprovado\"  \n",
        "    }\n",
        "    \n",
        "    if (Media_notas < 7)\n",
        "    {\n",
        "      cat(\"\\nAluno Reprovado\\n\\n\")\n",
        "      Situação <-\"Reprovado\"  \n",
        "    }\n",
        "    \n",
        "    alunos_df[i, ] <- c(nome, Nota1, Nota2, Nota3, Media_notas, Situação)\n",
        "   \n",
        "    print(\"Cadastrar outro Aluno? Sim -> 1     Não -> 0\")\n",
        "    x <- scan(n=1)\n",
        "    i <- i + 1\n",
        "  }    \n",
        "    \n",
        "    cat(\"\\n    Obrigado\\n\")\n",
        "    cat(\"    Banco de Dados:\\n\\n\")\n",
        "    \n",
        "    alunos_df \n",
        "}"
      ]
    }
  ]
}